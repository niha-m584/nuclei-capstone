{
 "cells": [
  {
   "cell_type": "code",
   "execution_count": 2,
   "id": "e0143140",
   "metadata": {},
   "outputs": [],
   "source": [
    "import os\n",
    "import cv2\n",
    "import skimage\n",
    "import numpy as np"
   ]
  },
  {
   "cell_type": "code",
   "execution_count": 3,
   "id": "fd20bec5",
   "metadata": {},
   "outputs": [],
   "source": [
    "img_path = '/Users/William/desktop/cropped-images/'\n",
    "imgs = os.listdir(img_path)"
   ]
  },
  {
   "cell_type": "code",
   "execution_count": 16,
   "id": "8eba4bf3",
   "metadata": {},
   "outputs": [],
   "source": [
    "def convert_imgs(img, color):\n",
    "    image = cv2.imread(img)\n",
    "    if image is None:\n",
    "        return None\n",
    "    img_rgb = cv2.cvtColor(image, cv2.COLOR_BGR2RGB)\n",
    "\n",
    "    target_color = np.array([int(color[1:3], 16), int(color[3:5], 16), int(color[5:7], 16)])\n",
    "    mask = cv2.inRange(img_rgb, target_color, target_color)\n",
    "\n",
    "    inverted_mask = cv2.bitwise_not(mask)\n",
    "    white_image = np.ones_like(image) * 255\n",
    "\n",
    "    result = cv2.bitwise_and(image, image, mask=inverted_mask)\n",
    "    result = cv2.add(result, white_image, mask=mask)\n",
    "\n",
    "    return result"
   ]
  },
  {
   "cell_type": "code",
   "execution_count": 18,
   "id": "8609d9d2",
   "metadata": {},
   "outputs": [
    {
     "name": "stderr",
     "output_type": "stream",
     "text": [
      "/var/folders/12/ppjl4c0175d6bh_vlkl4c9vw0000gn/T/ipykernel_15988/1725476447.py:4: UserWarning: /Users/William/Desktop/binary-cropped-images/24H_RT_032_0.png_binary.png is a low contrast image\n",
      "  skimage.io.imsave(f'/Users/William/Desktop/binary-cropped-images/{img}_binary.png', result)\n",
      "/var/folders/12/ppjl4c0175d6bh_vlkl4c9vw0000gn/T/ipykernel_15988/1725476447.py:4: UserWarning: /Users/William/Desktop/binary-cropped-images/24H_RT_016_0.png_binary.png is a low contrast image\n",
      "  skimage.io.imsave(f'/Users/William/Desktop/binary-cropped-images/{img}_binary.png', result)\n",
      "/var/folders/12/ppjl4c0175d6bh_vlkl4c9vw0000gn/T/ipykernel_15988/1725476447.py:4: UserWarning: /Users/William/Desktop/binary-cropped-images/24H_RT_014_0.png_binary.png is a low contrast image\n",
      "  skimage.io.imsave(f'/Users/William/Desktop/binary-cropped-images/{img}_binary.png', result)\n",
      "/var/folders/12/ppjl4c0175d6bh_vlkl4c9vw0000gn/T/ipykernel_15988/1725476447.py:4: UserWarning: /Users/William/Desktop/binary-cropped-images/24H_RT_9_R_0.png_binary.png is a low contrast image\n",
      "  skimage.io.imsave(f'/Users/William/Desktop/binary-cropped-images/{img}_binary.png', result)\n",
      "/var/folders/12/ppjl4c0175d6bh_vlkl4c9vw0000gn/T/ipykernel_15988/1725476447.py:4: UserWarning: /Users/William/Desktop/binary-cropped-images/24H_RT_030_0.png_binary.png is a low contrast image\n",
      "  skimage.io.imsave(f'/Users/William/Desktop/binary-cropped-images/{img}_binary.png', result)\n",
      "/var/folders/12/ppjl4c0175d6bh_vlkl4c9vw0000gn/T/ipykernel_15988/1725476447.py:4: UserWarning: /Users/William/Desktop/binary-cropped-images/24H_RT_009_0.png_binary.png is a low contrast image\n",
      "  skimage.io.imsave(f'/Users/William/Desktop/binary-cropped-images/{img}_binary.png', result)\n",
      "/var/folders/12/ppjl4c0175d6bh_vlkl4c9vw0000gn/T/ipykernel_15988/1725476447.py:4: UserWarning: /Users/William/Desktop/binary-cropped-images/24H_RT_010_1.png_binary.png is a low contrast image\n",
      "  skimage.io.imsave(f'/Users/William/Desktop/binary-cropped-images/{img}_binary.png', result)\n",
      "/var/folders/12/ppjl4c0175d6bh_vlkl4c9vw0000gn/T/ipykernel_15988/1725476447.py:4: UserWarning: /Users/William/Desktop/binary-cropped-images/24H_RT_034_0.png_binary.png is a low contrast image\n",
      "  skimage.io.imsave(f'/Users/William/Desktop/binary-cropped-images/{img}_binary.png', result)\n",
      "/var/folders/12/ppjl4c0175d6bh_vlkl4c9vw0000gn/T/ipykernel_15988/1725476447.py:4: UserWarning: /Users/William/Desktop/binary-cropped-images/24H_RT_034_1.png_binary.png is a low contrast image\n",
      "  skimage.io.imsave(f'/Users/William/Desktop/binary-cropped-images/{img}_binary.png', result)\n",
      "/var/folders/12/ppjl4c0175d6bh_vlkl4c9vw0000gn/T/ipykernel_15988/1725476447.py:4: UserWarning: /Users/William/Desktop/binary-cropped-images/24H_RT_010_0.png_binary.png is a low contrast image\n",
      "  skimage.io.imsave(f'/Users/William/Desktop/binary-cropped-images/{img}_binary.png', result)\n",
      "/var/folders/12/ppjl4c0175d6bh_vlkl4c9vw0000gn/T/ipykernel_15988/1725476447.py:4: UserWarning: /Users/William/Desktop/binary-cropped-images/24H_RT_036_0.png_binary.png is a low contrast image\n",
      "  skimage.io.imsave(f'/Users/William/Desktop/binary-cropped-images/{img}_binary.png', result)\n",
      "/var/folders/12/ppjl4c0175d6bh_vlkl4c9vw0000gn/T/ipykernel_15988/1725476447.py:4: UserWarning: /Users/William/Desktop/binary-cropped-images/24H_RT_1_R_0.png_binary.png is a low contrast image\n",
      "  skimage.io.imsave(f'/Users/William/Desktop/binary-cropped-images/{img}_binary.png', result)\n",
      "/var/folders/12/ppjl4c0175d6bh_vlkl4c9vw0000gn/T/ipykernel_15988/1725476447.py:4: UserWarning: /Users/William/Desktop/binary-cropped-images/24H_RT_20__0.png_binary.png is a low contrast image\n",
      "  skimage.io.imsave(f'/Users/William/Desktop/binary-cropped-images/{img}_binary.png', result)\n",
      "/var/folders/12/ppjl4c0175d6bh_vlkl4c9vw0000gn/T/ipykernel_15988/1725476447.py:4: UserWarning: /Users/William/Desktop/binary-cropped-images/24H_RT_031_0.png_binary.png is a low contrast image\n",
      "  skimage.io.imsave(f'/Users/William/Desktop/binary-cropped-images/{img}_binary.png', result)\n",
      "/var/folders/12/ppjl4c0175d6bh_vlkl4c9vw0000gn/T/ipykernel_15988/1725476447.py:4: UserWarning: /Users/William/Desktop/binary-cropped-images/24H_RT_033_0.png_binary.png is a low contrast image\n",
      "  skimage.io.imsave(f'/Users/William/Desktop/binary-cropped-images/{img}_binary.png', result)\n",
      "/var/folders/12/ppjl4c0175d6bh_vlkl4c9vw0000gn/T/ipykernel_15988/1725476447.py:4: UserWarning: /Users/William/Desktop/binary-cropped-images/24H_RT_3_R_0.png_binary.png is a low contrast image\n",
      "  skimage.io.imsave(f'/Users/William/Desktop/binary-cropped-images/{img}_binary.png', result)\n",
      "/var/folders/12/ppjl4c0175d6bh_vlkl4c9vw0000gn/T/ipykernel_15988/1725476447.py:4: UserWarning: /Users/William/Desktop/binary-cropped-images/24H_RT_22__0.png_binary.png is a low contrast image\n",
      "  skimage.io.imsave(f'/Users/William/Desktop/binary-cropped-images/{img}_binary.png', result)\n",
      "/var/folders/12/ppjl4c0175d6bh_vlkl4c9vw0000gn/T/ipykernel_15988/1725476447.py:4: UserWarning: /Users/William/Desktop/binary-cropped-images/24H_RT_041_0.png_binary.png is a low contrast image\n",
      "  skimage.io.imsave(f'/Users/William/Desktop/binary-cropped-images/{img}_binary.png', result)\n",
      "/var/folders/12/ppjl4c0175d6bh_vlkl4c9vw0000gn/T/ipykernel_15988/1725476447.py:4: UserWarning: /Users/William/Desktop/binary-cropped-images/24H_RT_039_0.png_binary.png is a low contrast image\n",
      "  skimage.io.imsave(f'/Users/William/Desktop/binary-cropped-images/{img}_binary.png', result)\n",
      "/var/folders/12/ppjl4c0175d6bh_vlkl4c9vw0000gn/T/ipykernel_15988/1725476447.py:4: UserWarning: /Users/William/Desktop/binary-cropped-images/24H_RT_11__0.png_binary.png is a low contrast image\n",
      "  skimage.io.imsave(f'/Users/William/Desktop/binary-cropped-images/{img}_binary.png', result)\n",
      "/var/folders/12/ppjl4c0175d6bh_vlkl4c9vw0000gn/T/ipykernel_15988/1725476447.py:4: UserWarning: /Users/William/Desktop/binary-cropped-images/24H_RT_7_R_0.png_binary.png is a low contrast image\n",
      "  skimage.io.imsave(f'/Users/William/Desktop/binary-cropped-images/{img}_binary.png', result)\n",
      "/var/folders/12/ppjl4c0175d6bh_vlkl4c9vw0000gn/T/ipykernel_15988/1725476447.py:4: UserWarning: /Users/William/Desktop/binary-cropped-images/24H_RT_043_0.png_binary.png is a low contrast image\n",
      "  skimage.io.imsave(f'/Users/William/Desktop/binary-cropped-images/{img}_binary.png', result)\n",
      "/var/folders/12/ppjl4c0175d6bh_vlkl4c9vw0000gn/T/ipykernel_15988/1725476447.py:4: UserWarning: /Users/William/Desktop/binary-cropped-images/24H_RT_022_0.png_binary.png is a low contrast image\n",
      "  skimage.io.imsave(f'/Users/William/Desktop/binary-cropped-images/{img}_binary.png', result)\n",
      "/var/folders/12/ppjl4c0175d6bh_vlkl4c9vw0000gn/T/ipykernel_15988/1725476447.py:4: UserWarning: /Users/William/Desktop/binary-cropped-images/24H_RT_045_0.png_binary.png is a low contrast image\n",
      "  skimage.io.imsave(f'/Users/William/Desktop/binary-cropped-images/{img}_binary.png', result)\n",
      "/var/folders/12/ppjl4c0175d6bh_vlkl4c9vw0000gn/T/ipykernel_15988/1725476447.py:4: UserWarning: /Users/William/Desktop/binary-cropped-images/24H_RT_023_0.png_binary.png is a low contrast image\n",
      "  skimage.io.imsave(f'/Users/William/Desktop/binary-cropped-images/{img}_binary.png', result)\n",
      "/var/folders/12/ppjl4c0175d6bh_vlkl4c9vw0000gn/T/ipykernel_15988/1725476447.py:4: UserWarning: /Users/William/Desktop/binary-cropped-images/24H_RT_038_0.png_binary.png is a low contrast image\n",
      "  skimage.io.imsave(f'/Users/William/Desktop/binary-cropped-images/{img}_binary.png', result)\n",
      "/var/folders/12/ppjl4c0175d6bh_vlkl4c9vw0000gn/T/ipykernel_15988/1725476447.py:4: UserWarning: /Users/William/Desktop/binary-cropped-images/24H_RT_005_0.png_binary.png is a low contrast image\n",
      "  skimage.io.imsave(f'/Users/William/Desktop/binary-cropped-images/{img}_binary.png', result)\n",
      "/var/folders/12/ppjl4c0175d6bh_vlkl4c9vw0000gn/T/ipykernel_15988/1725476447.py:4: UserWarning: /Users/William/Desktop/binary-cropped-images/24H_RT_15__0.png_binary.png is a low contrast image\n",
      "  skimage.io.imsave(f'/Users/William/Desktop/binary-cropped-images/{img}_binary.png', result)\n",
      "/var/folders/12/ppjl4c0175d6bh_vlkl4c9vw0000gn/T/ipykernel_15988/1725476447.py:4: UserWarning: /Users/William/Desktop/binary-cropped-images/24H_RT_19__0.png_binary.png is a low contrast image\n",
      "  skimage.io.imsave(f'/Users/William/Desktop/binary-cropped-images/{img}_binary.png', result)\n",
      "/var/folders/12/ppjl4c0175d6bh_vlkl4c9vw0000gn/T/ipykernel_15988/1725476447.py:4: UserWarning: /Users/William/Desktop/binary-cropped-images/24H_RT_5_R_0.png_binary.png is a low contrast image\n",
      "  skimage.io.imsave(f'/Users/William/Desktop/binary-cropped-images/{img}_binary.png', result)\n",
      "/var/folders/12/ppjl4c0175d6bh_vlkl4c9vw0000gn/T/ipykernel_15988/1725476447.py:4: UserWarning: /Users/William/Desktop/binary-cropped-images/24H_RT_027_0.png_binary.png is a low contrast image\n",
      "  skimage.io.imsave(f'/Users/William/Desktop/binary-cropped-images/{img}_binary.png', result)\n"
     ]
    },
    {
     "name": "stderr",
     "output_type": "stream",
     "text": [
      "/var/folders/12/ppjl4c0175d6bh_vlkl4c9vw0000gn/T/ipykernel_15988/1725476447.py:4: UserWarning: /Users/William/Desktop/binary-cropped-images/24H_RT_046_0.png_binary.png is a low contrast image\n",
      "  skimage.io.imsave(f'/Users/William/Desktop/binary-cropped-images/{img}_binary.png', result)\n"
     ]
    }
   ],
   "source": [
    "for img in imgs:\n",
    "    result = convert_imgs(img_path + img, '#f0027f')\n",
    "    if result is not None:\n",
    "        skimage.io.imsave(f'/Users/William/Desktop/binary-cropped-images/{img}_binary.png', result)"
   ]
  },
  {
   "cell_type": "code",
   "execution_count": null,
   "id": "d3e7249d",
   "metadata": {},
   "outputs": [],
   "source": []
  }
 ],
 "metadata": {
  "kernelspec": {
   "display_name": "Python 3 (ipykernel)",
   "language": "python",
   "name": "python3"
  },
  "language_info": {
   "codemirror_mode": {
    "name": "ipython",
    "version": 3
   },
   "file_extension": ".py",
   "mimetype": "text/x-python",
   "name": "python",
   "nbconvert_exporter": "python",
   "pygments_lexer": "ipython3",
   "version": "3.11.5"
  }
 },
 "nbformat": 4,
 "nbformat_minor": 5
}
